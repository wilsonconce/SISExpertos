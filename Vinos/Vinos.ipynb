{
 "cells": [
  {
   "cell_type": "code",
   "execution_count": null,
   "id": "188f4079",
   "metadata": {},
   "outputs": [
    {
     "name": "stdout",
     "output_type": "stream",
     "text": [
      " * Serving Flask app \"__main__\" (lazy loading)\n",
      " * Environment: production\n",
      "   WARNING: This is a development server. Do not use it in a production deployment.\n",
      "   Use a production WSGI server instead.\n",
      " * Debug mode: off\n"
     ]
    },
    {
     "name": "stderr",
     "output_type": "stream",
     "text": [
      " * Running on http://127.0.0.1:80/ (Press CTRL+C to quit)\n",
      "127.0.0.1 - - [06/Aug/2021 10:52:57] \"\u001b[37mGET / HTTP/1.1\u001b[0m\" 200 -\n",
      "127.0.0.1 - - [06/Aug/2021 10:53:11] \"\u001b[37mPOST /calculo_similitud HTTP/1.1\u001b[0m\" 200 -\n"
     ]
    }
   ],
   "source": [
    "from flask import Flask, render_template, request\n",
    "\n",
    "app = Flask(__name__)\n",
    "\n",
    "\n",
    "def calcular_similitud_jaccard(valores_vino):\n",
    "    \"\"\"\n",
    "    Metodo que recoree el data set y calcula la similitud con el nuevo vino\n",
    "    :param valores_vino:\n",
    "    :return:\n",
    "    \"\"\"\n",
    "    def calculo_similitud(calidad, set_valores_vino):\n",
    "        \"\"\"\n",
    "        Reliza el calculo de similitud de jaccard\n",
    "        :param calidad:\n",
    "        :param set_valores_vino:\n",
    "        :return:\n",
    "        \"\"\"\n",
    "        return {\n",
    "            'calidad': calidad,\n",
    "            'similitud': len(set_valores_vino.intersection(valores_vino)) /\n",
    "                         len(set_valores_vino.union(valores_vino))\n",
    "        }\n",
    "\n",
    "    lista_calculada = []\n",
    "    with open(\"winequality-red.csv\", \"r\") as f:\n",
    "        valores_vino_data = f.readline()\n",
    "        while valores_vino_data:\n",
    "            valores_vino_data = f.readline()\n",
    "            propiedades_vino = valores_vino_data.split(\";\")\n",
    "            calidad = propiedades_vino[-1:][0].replace(\"\\n\", \"\")\n",
    "            lista_calculada.append(calculo_similitud(calidad, set(map(float, propiedades_vino[:-1]))))\n",
    "    # Retorna las similitudes y su calidad\n",
    "    return sorted(lista_calculada, key=lambda item: item['similitud'], reverse=True)\n",
    "\n",
    "\n",
    "@app.route('/calculo_similitud', methods=['POST'])\n",
    "def calcular_calidad():\n",
    "    valores_vino = list(map(float, request.form.values()))\n",
    "    return render_template('index.html', valores=valores_vino, lista=calcular_similitud_jaccard(valores_vino))\n",
    "\n",
    "\n",
    "@app.route('/')\n",
    "def hello_world():\n",
    "    return render_template('index.html')\n",
    "\n",
    "\n",
    "if __name__ == '__main__':\n",
    "    app.run(port=80)"
   ]
  }
 ],
 "metadata": {
  "kernelspec": {
   "display_name": "Python 3",
   "language": "python",
   "name": "python3"
  },
  "language_info": {
   "codemirror_mode": {
    "name": "ipython",
    "version": 3
   },
   "file_extension": ".py",
   "mimetype": "text/x-python",
   "name": "python",
   "nbconvert_exporter": "python",
   "pygments_lexer": "ipython3",
   "version": "3.8.8"
  }
 },
 "nbformat": 4,
 "nbformat_minor": 5
}
