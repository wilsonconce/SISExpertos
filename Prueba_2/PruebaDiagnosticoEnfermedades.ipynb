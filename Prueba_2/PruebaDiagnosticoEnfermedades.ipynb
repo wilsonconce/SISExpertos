{
 "cells": [
  {
   "cell_type": "markdown",
   "id": "d9e9e6f1",
   "metadata": {},
   "source": [
    "# Clasificación de Enfermedades\n",
    "##### Wilson Conce\n",
    "* Python + Clips"
   ]
  },
  {
   "cell_type": "code",
   "execution_count": 1,
   "id": "08c5c213",
   "metadata": {},
   "outputs": [],
   "source": [
    "from clips import Environment, Symbol\n",
    "environment = Environment()"
   ]
  },
  {
   "cell_type": "code",
   "execution_count": 2,
   "id": "c058ac4e",
   "metadata": {},
   "outputs": [
    {
     "data": {
      "text/plain": [
       "0"
      ]
     },
     "execution_count": 2,
     "metadata": {},
     "output_type": "execute_result"
    }
   ],
   "source": [
    "environment.load('pruebaEnfermedades.clp')\n",
    "environment.reset()\n",
    "environment.run()"
   ]
  },
  {
   "cell_type": "code",
   "execution_count": 3,
   "id": "109cc6d1",
   "metadata": {},
   "outputs": [
    {
     "name": "stdout",
     "output_type": "stream",
     "text": [
      "(defrule MAIN::cesareaPrevista (posicion-bebe si) (enfermedades-madre si) (placenta-posicion si) (madre-problemas si) => (assert (planificarCesarea)))\n",
      "(defrule MAIN::cesareaImprovisada (cabeza-grande si) (cabeza-encajada si) (sufrimiento-fetal si) (placenta-desprende si) => (assert (improvisarCesarea)))\n",
      "(defrule MAIN::incision (improvisarCesarea) (placenta-desprende si) => (assert (umbilico)))\n",
      "(defrule MAIN::incisionTransversal (planificarCesarea) => (assert (transversal)))\n",
      "(defrule MAIN::incisionJoelCoell (planificarCesarea) => (assert (joelcoell)))\n"
     ]
    }
   ],
   "source": [
    "for rule in environment.rules():\n",
    "    print(rule)"
   ]
  },
  {
   "cell_type": "code",
   "execution_count": 4,
   "id": "fbff8677",
   "metadata": {},
   "outputs": [
    {
     "name": "stdout",
     "output_type": "stream",
     "text": [
      "¿El bebé está en posición podálica? :si\n",
      "¿La futura madre padece durante el embarazo alguno de las dos enfermedades siguientes: gestosis o diabetes gravídica? :si\n",
      "¿La placenta está en posición previa-central? :no\n",
      "¿La madre tiene problemas de corazón, renales o graves infecciones en vías genitales? :no\n",
      "¿La cabeza del niño es demasiado grande y no cabe por el canal del parto? :si\n",
      "¿La cabeza del niño no está encajada correctamente en el canal del parto? :si\n",
      "¿Existe sufrimiento fetal? :si\n",
      "¿La placenta se despender? :si\n"
     ]
    }
   ],
   "source": [
    "posicion = input(\"¿El bebé está en posición podálica? :\")\n",
    "enfermedad = input(\"¿La futura madre padece durante el embarazo alguno de las dos enfermedades siguientes: gestosis o diabetes gravídica? :\")\n",
    "placenta = input(\"¿La placenta está en posición previa-central? :\")\n",
    "madre = input(\"¿La madre tiene problemas de corazón, renales o graves infecciones en vías genitales? :\")\n",
    "\n",
    "tam_cabeza = input(\"¿La cabeza del niño es demasiado grande y no cabe por el canal del parto? :\")\n",
    "no_encaja = input(\"¿La cabeza del niño no está encajada correctamente en el canal del parto? :\")\n",
    "fetal = input (\"¿Existe sufrimiento fetal? :\")\n",
    "placenta_des = input(\"¿La placenta se despender? :\")\n"
   ]
  },
  {
   "cell_type": "code",
   "execution_count": 5,
   "id": "dec71d8f",
   "metadata": {},
   "outputs": [],
   "source": [
    "fact_string_pos = '(posicion-bebe ' + posicion  + ')'\n",
    "fact_pos = environment.assert_string(fact_string_pos)\n",
    "fact_string_enf = '(enfermedades-madre ' + enfermedad  + ')'\n",
    "fact_enf = environment.assert_string(fact_string_enf)\n",
    "fact_string_pla = '(placenta-posicion ' + placenta  + ')'\n",
    "fact_pla = environment.assert_string(fact_string_pla)\n",
    "fact_string_mapro = '(madre-problemas ' + madre  + ')'\n",
    "fact_mapro = environment.assert_string(fact_string_mapro)\n",
    "\n",
    "fact_string_cab = '(cabeza-grande ' + tam_cabeza  + ')'\n",
    "fact_cab = environment.assert_string(fact_string_cab)\n",
    "fact_string_caben = '(cabeza-encajada ' + no_encaja  + ')'\n",
    "fact_caben = environment.assert_string(fact_string_caben)\n",
    "fact_string_suf = '(sufrimiento-fetal ' + fetal  + ')'\n",
    "fact_suf = environment.assert_string(fact_string_suf)\n",
    "fact_string_placent = '(placenta-desprende ' + placenta_des  + ')'\n",
    "fact_placent = environment.assert_string(fact_string_placent)\n"
   ]
  },
  {
   "cell_type": "code",
   "execution_count": 6,
   "id": "be2d10b0",
   "metadata": {},
   "outputs": [
    {
     "data": {
      "text/plain": [
       "2"
      ]
     },
     "execution_count": 6,
     "metadata": {},
     "output_type": "execute_result"
    }
   ],
   "source": [
    "environment.run()"
   ]
  },
  {
   "cell_type": "code",
   "execution_count": 7,
   "id": "eb1b3a69",
   "metadata": {},
   "outputs": [
    {
     "name": "stdout",
     "output_type": "stream",
     "text": [
      "se debe \"Improvisar Cesarea\"\n",
      "\n",
      "con Incisión Umbílico púbica\n",
      "Con corte vertical, debajo del ombligo y termina en el pubis\n"
     ]
    }
   ],
   "source": [
    "for fact in environment.facts():\n",
    "    if fact.template.name == 'planificarCesarea':\n",
    "        print (\"se debe \\\"Planificar Cesarea\\\"\")\n",
    "        print (\"\")\n",
    "\n",
    "    elif fact.template.name == 'improvisarCesarea':\n",
    "        print (\"se debe \\\"Improvisar Cesarea\\\"\")\n",
    "        print (\"\")\n",
    "        \n",
    "    elif fact.template.name == 'umbilico':\n",
    "        print (\"con Incisión Umbílico púbica\")\n",
    "        print (\"Con corte vertical, debajo del ombligo y termina en el pubis\")\n",
    "        \n",
    "    elif fact.template.name == 'transversal':\n",
    "        print (\"Con Incision  --> \\\"Transversal baja\\\"\")\n",
    "        print (\"Un corte horizontal\")\n",
    "        print(\"O\")\n",
    "        \n",
    "    elif fact.template.name == 'joelcoell':\n",
    "        print (\"Con Incision --> \\\"Joel Coell\\\"\")\n",
    "        print (\"Un corte horizontal\")\n",
    "            "
   ]
  },
  {
   "cell_type": "code",
   "execution_count": 8,
   "id": "cc0d2f51",
   "metadata": {},
   "outputs": [
    {
     "name": "stdout",
     "output_type": "stream",
     "text": [
      "(posicion-bebe si)\n",
      "(enfermedades-madre si)\n",
      "(placenta-posicion no)\n",
      "(madre-problemas no)\n",
      "(cabeza-grande si)\n",
      "(cabeza-encajada si)\n",
      "(sufrimiento-fetal si)\n",
      "(placenta-desprende si)\n",
      "(improvisarCesarea)\n",
      "(umbilico)\n"
     ]
    }
   ],
   "source": [
    "for fact in environment.facts():\n",
    "    print (fact)"
   ]
  }
 ],
 "metadata": {
  "kernelspec": {
   "display_name": "Python 3",
   "language": "python",
   "name": "python3"
  },
  "language_info": {
   "codemirror_mode": {
    "name": "ipython",
    "version": 3
   },
   "file_extension": ".py",
   "mimetype": "text/x-python",
   "name": "python",
   "nbconvert_exporter": "python",
   "pygments_lexer": "ipython3",
   "version": "3.8.8"
  }
 },
 "nbformat": 4,
 "nbformat_minor": 5
}
