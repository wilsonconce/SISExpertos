{
 "cells": [
  {
   "cell_type": "markdown",
   "metadata": {},
   "source": [
    "# UNIVERSIDAD POLITECNICA SALESIANA"
   ]
  },
  {
   "cell_type": "code",
   "execution_count": 1,
   "metadata": {},
   "outputs": [],
   "source": [
    "from clips import Environment, Symbol\n",
    "import tkinter\n",
    "\n",
    "environment = Environment()"
   ]
  },
  {
   "cell_type": "markdown",
   "metadata": {},
   "source": [
    "Procedemos a cargar nuestro sistema basado en reglas, para ello utilizamos el metodo load y le enviamos el archivo .clp"
   ]
  },
  {
   "cell_type": "code",
   "execution_count": 2,
   "metadata": {},
   "outputs": [],
   "source": [
    "environment.load('examenSE.clp')"
   ]
  },
  {
   "cell_type": "markdown",
   "metadata": {},
   "source": [
    "Procedemos a validar que se cargo el archivo de reglas con la siguiente instruccion"
   ]
  },
  {
   "cell_type": "code",
   "execution_count": 3,
   "metadata": {},
   "outputs": [
    {
     "data": {
      "text/plain": [
       "0"
      ]
     },
     "execution_count": 3,
     "metadata": {},
     "output_type": "execute_result"
    }
   ],
   "source": [
    "\n",
    "environment.reset()\n",
    "environment.run()"
   ]
  },
  {
   "cell_type": "code",
   "execution_count": 4,
   "metadata": {
    "scrolled": true
   },
   "outputs": [
    {
     "name": "stdout",
     "output_type": "stream",
     "text": [
      "(defrule MAIN::nitrogeno1\n",
      "   (La planta crece muy poco)\n",
      "   =>\n",
      "   (assert (La planta crece muy poco)))\n",
      "\n",
      "(defrule MAIN::nitrogeno2\n",
      "   (La planta tiene un color amarillo palido)\n",
      "   =>\n",
      "   (assert (La planta tiene un color amarillo palido)))\n",
      "\n",
      "(defrule MAIN::nitrogeno3\n",
      "   (La planta tiene hojas de color pardo rojizo)\n",
      "   =>\n",
      "   (assert (La planta tiene hojas de color pardo rojizo)))\n",
      "\n",
      "(defrule MAIN::fosforo1\n",
      "   (La raiz de la planta crece poco)\n",
      "   =>\n",
      "   (assert (La raiz de la planta crece poco)))\n",
      "\n",
      "(defrule MAIN::fosforo2\n",
      "   (La planta tiene tallo fusiforme)\n",
      "   =>\n",
      "   (assert (La planta tiene tallo fusiforme)))\n",
      "\n",
      "(defrule MAIN::fosforo3\n",
      "   (La planta tiene color purpura)\n",
      "   =>\n",
      "   (assert (La planta tiene color purpura)))\n",
      "\n",
      "(defrule MAIN::fosforo4\n",
      "   (La planta tiene retraso de madurez)\n",
      "   =>\n",
      "   (assert (La planta tiene retraso de madurez)))\n",
      "\n",
      "(defrule MAIN::potasio1\n",
      "   (Tiene los bordes de las hojas chamuscados)\n",
      "   =>\n",
      "   (assert (Tiene los bordes de las hojas chamuscados)))\n",
      "\n",
      "(defrule MAIN::potasio2\n",
      "   (La planta tiene tallos debilitados)\n",
      "   =>\n",
      "   (assert (La planta tiene tallos debilitados)))\n",
      "\n",
      "(defrule MAIN::potasio3\n",
      "   (La planta tiene semillas o frutas marchitas)\n",
      "   =>\n",
      "   (assert (La planta tiene semillas o frutas marchitas)))\n",
      "\n",
      "(defrule MAIN::ausencia-nitrogeno\n",
      "   (or  (La planta crece muy poco)\n",
      "        (La planta tiene un color amarillo palido)\n",
      "        (La planta tiene hojas de color pardo rojizo))\n",
      "   =>\n",
      "   (assert (no-nitrogeno))\n",
      "   (printout t \"La planta carece de Nitrógeno.\" crlf))\n",
      "\n",
      "(defrule MAIN::ausencia-fosforo\n",
      "   (or  (La raiz de la planta crece poco)\n",
      "        (La planta tiene tallo fusiforme)\n",
      "        (La planta tiene color purpura)\n",
      "        (La planta tiene retraso de madurez))\n",
      "   =>\n",
      "   (assert (no-fosforo))\n",
      "   (printout t \"La planta carece de Fósforo.\" crlf))\n",
      "\n",
      "(defrule MAIN::ausencia-potasio\n",
      "   (or  (Tiene los bordes de las hojas chamuscados)\n",
      "        (La planta tiene tallos debilitados)\n",
      "        (La planta tiene semillas o frutas marchitas))\n",
      "   =>\n",
      "   (assert (no-potasio))\n",
      "   (printout t \"La planta carece de Potasio.\" crlf))\n",
      "\n",
      "(initial-fact)\n"
     ]
    }
   ],
   "source": [
    "for rule in environment.rules():\n",
    "    print(rule)\n",
    "    \n",
    "for fact in environment.facts():\n",
    "    print(fact)"
   ]
  },
  {
   "cell_type": "code",
   "execution_count": 5,
   "metadata": {},
   "outputs": [
    {
     "data": {
      "text/plain": [
       "''"
      ]
     },
     "execution_count": 5,
     "metadata": {},
     "output_type": "execute_result"
    }
   ],
   "source": [
    "ventana = tkinter.Tk()\n",
    "ventana.geometry(\"500x300\")\n"
   ]
  },
  {
   "cell_type": "code",
   "execution_count": 6,
   "metadata": {},
   "outputs": [
    {
     "name": "stdout",
     "output_type": "stream",
     "text": [
      "Numero de Sintomas:\n",
      "2\n",
      "Que problema tiene su planta ? la planta tiene color purpura\n",
      "Que problema tiene su planta ? la planta tiene tallos debilitados\n"
     ]
    }
   ],
   "source": [
    "environment.reset()\n",
    "sintomas = int(input(\"Numero de Sintomas:\\n\"))\n",
    "\n",
    "for sintoma in range(sintomas):\n",
    "    deficiencia = input(\"Que problema tiene su planta ? \")\n",
    "    fact_string_planta1 = '(' + deficiencia.capitalize()  + ')'\n",
    "    fact_planta1 = environment.assert_string(fact_string_planta1)\n"
   ]
  },
  {
   "cell_type": "code",
   "execution_count": null,
   "metadata": {},
   "outputs": [
    {
     "name": "stdout",
     "output_type": "stream",
     "text": [
      "La planta carece de Potasio\n",
      "La planta carece de Fósforo\n"
     ]
    }
   ],
   "source": [
    "environment.run()\n",
    "\n",
    "for fact in environment.facts():\n",
    "    if fact.template.name == 'no-nitrogeno':\n",
    "        etiqueta = tkinter.Label(ventana, text=\"La planta carece de Nitrógeno\", fg=\"red\").pack()\n",
    "        print('La planta carece de Nitrógeno')\n",
    "    elif fact.template.name == 'no-fosforo':\n",
    "        etiqueta2 = tkinter.Label(ventana, text=\"La planta carece de Fósforo\", fg=\"red\").pack()\n",
    "        print('La planta carece de Fósforo')\n",
    "    elif fact.template.name == 'no-potasio':\n",
    "        etiqueta3 = tkinter.Label(ventana, text=\"La planta carece de Potasio\", fg=\"red\").pack()\n",
    "        print('La planta carece de Potasio')\n",
    "        \n",
    "#etiqueta.pack()\n",
    "ventana.mainloop()"
   ]
  },
  {
   "cell_type": "code",
   "execution_count": null,
   "metadata": {},
   "outputs": [],
   "source": [
    "for fact in environment.facts():\n",
    "    print(fact)"
   ]
  },
  {
   "cell_type": "code",
   "execution_count": null,
   "metadata": {},
   "outputs": [],
   "source": []
  }
 ],
 "metadata": {
  "kernelspec": {
   "display_name": "Python 3",
   "language": "python",
   "name": "python3"
  },
  "language_info": {
   "codemirror_mode": {
    "name": "ipython",
    "version": 3
   },
   "file_extension": ".py",
   "mimetype": "text/x-python",
   "name": "python",
   "nbconvert_exporter": "python",
   "pygments_lexer": "ipython3",
   "version": "3.8.5"
  }
 },
 "nbformat": 4,
 "nbformat_minor": 4
}
